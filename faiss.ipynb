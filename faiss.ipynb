{
 "cells": [
  {
   "cell_type": "code",
   "execution_count": 1,
   "metadata": {},
   "outputs": [],
   "source": [
    "import getpass\n",
    "import os\n",
    "import pandas as pd\n",
    "from langchain.text_splitter import CharacterTextSplitter\n",
    "from langchain.vectorstores import FAISS\n",
    "from langchain.chains import RetrievalQA\n",
    "from langchain_community.document_loaders.csv_loader import CSVLoader\n",
    "if not os.getenv(\"OPENAI_API_KEY\"):\n",
    "    os.environ[\"OPENAI_API_KEY\"] = getpass.getpass(\"Enter your OpenAI API key: \")"
   ]
  },
  {
   "cell_type": "code",
   "execution_count": 2,
   "metadata": {},
   "outputs": [],
   "source": [
    "from langchain_openai import OpenAIEmbeddings\n",
    "\n",
    "embeddings = OpenAIEmbeddings(\n",
    "    model=\"text-embedding-3-small\",\n",
    "\n",
    ")"
   ]
  },
  {
   "cell_type": "code",
   "execution_count": 3,
   "metadata": {},
   "outputs": [],
   "source": [
    "df=pd.read_csv('data/product_reviews.csv')"
   ]
  },
  {
   "cell_type": "code",
   "execution_count": 4,
   "metadata": {},
   "outputs": [],
   "source": [
    "loader = CSVLoader(file_path=\"data/product_reviews.csv\",source_column='product_title',\n",
    "                   csv_args={\n",
    "                       'delimiter': ',',\n",
    "                       \"fieldnames\": ['product_title','rating','summary','review'],\n",
    "                   })\n",
    "\n",
    "documents = loader.load()"
   ]
  },
  {
   "cell_type": "code",
   "execution_count": 6,
   "metadata": {},
   "outputs": [],
   "source": [
    "text_splitter = CharacterTextSplitter(chunk_size=1000, chunk_overlap=200, separator=\"\\n\")\n",
    "docs = text_splitter.split_documents(documents=documents)"
   ]
  },
  {
   "cell_type": "code",
   "execution_count": 7,
   "metadata": {},
   "outputs": [],
   "source": [
    "vectorstore = FAISS.from_documents(docs, embeddings)"
   ]
  },
  {
   "cell_type": "code",
   "execution_count": 8,
   "metadata": {},
   "outputs": [],
   "source": [
    "vectorstore.save_local(\"faiss_index_openai\")"
   ]
  },
  {
   "cell_type": "code",
   "execution_count": 9,
   "metadata": {},
   "outputs": [],
   "source": [
    "results = vectorstore.similarity_search_with_score(\n",
    "    \"best performance product\",\n",
    "    k=2,\n",
    ")"
   ]
  },
  {
   "cell_type": "code",
   "execution_count": 11,
   "metadata": {},
   "outputs": [
    {
     "name": "stdout",
     "output_type": "stream",
     "text": [
      "* [SIM=1.154299] product_title: OnePlus Bullets Wireless Z Bass Edition Bluetooth Headset\n",
      "rating: 5\n",
      "summary: Simply awesome\n",
      "review: Awesome looking and stylish all my friends are asking me for testing this product and some of them are buying. that's batter and I like that thing. Also the phone has low latency mode that's also help me in game overall good performance. Must buy 🤗 [{'source': 'OnePlus Bullets Wireless Z Bass Edition Bluetooth Headset', 'row': 226}]\n",
      "* [SIM=1.204979] product_title: OnePlus Bullets Wireless Z Bass Edition Bluetooth Headset\n",
      "rating: 5\n",
      "summary: Super!\n",
      "review: Amazing productSound quality super se upper 💓Battery backup A1 [{'source': 'OnePlus Bullets Wireless Z Bass Edition Bluetooth Headset', 'row': 240}]\n"
     ]
    }
   ],
   "source": [
    "for res, score in results:\n",
    "    print(f\"* [SIM={score:3f}] {res.page_content} [{res.metadata}]\")"
   ]
  },
  {
   "cell_type": "code",
   "execution_count": 1,
   "metadata": {},
   "outputs": [],
   "source": [
    "## Loading persistent db"
   ]
  },
  {
   "cell_type": "code",
   "execution_count": 12,
   "metadata": {},
   "outputs": [],
   "source": [
    "persisted_vectorstore = FAISS.load_local(\"faiss_index_openai\", embeddings,allow_dangerous_deserialization=True)"
   ]
  },
  {
   "cell_type": "code",
   "execution_count": 13,
   "metadata": {},
   "outputs": [],
   "source": [
    "def get_answer(question):\n",
    "    answer=persisted_vectorstore.similarity_search_with_score(question, k=5)\n",
    "    answer= [{(s.split(\":\")[0]):(s.split(\":\")[1]) for s in a[0].page_content.split(\"\\n\")} for a in answer]\n",
    "    return [a for a in answer if len(a)>1]\n",
    "\n",
    "    "
   ]
  },
  {
   "cell_type": "code",
   "execution_count": 14,
   "metadata": {},
   "outputs": [],
   "source": [
    "q=\"Best earphones with great sound quality\""
   ]
  },
  {
   "cell_type": "code",
   "execution_count": 15,
   "metadata": {},
   "outputs": [],
   "source": [
    "answer=(get_answer(q))"
   ]
  },
  {
   "cell_type": "code",
   "execution_count": 16,
   "metadata": {},
   "outputs": [
    {
     "data": {
      "text/plain": [
       "[{'product_title': ' OnePlus Bullets Wireless Z Bass Edition Bluetooth Headset',\n",
       "  'rating': ' 5',\n",
       "  'summary': ' Brilliant',\n",
       "  'review': ' Best sound & bass quality'},\n",
       " {'product_title': ' BoAt BassHeads 100 Wired Headset',\n",
       "  'rating': ' 5',\n",
       "  'summary': ' Just wow!',\n",
       "  'review': \" Best budgeted earphones, build quality is so good that you can fold them without any fear of tearing. Best part is it's bass and an awesome sound experience. Best earphones till used by me. ❤\"},\n",
       " {'product_title': ' OnePlus Bullets Wireless Z Bass Edition Bluetooth Headset',\n",
       "  'rating': ' 4',\n",
       "  'summary': ' Worth the money',\n",
       "  'review': ' Super sound quality'},\n",
       " {'product_title': ' realme Buds 2 Wired Headset',\n",
       "  'rating': ' 5',\n",
       "  'summary': ' Excellent',\n",
       "  'review': ' nice earphones with smooth sound. even the build quality is best . this earphone is better for bass lover . and also  for smooth playback'},\n",
       " {'product_title': ' OnePlus Bullets Wireless Z Bass Edition Bluetooth Headset',\n",
       "  'rating': ' 5',\n",
       "  'summary': ' Awesome',\n",
       "  'review': ' Best earphone'}]"
      ]
     },
     "execution_count": 16,
     "metadata": {},
     "output_type": "execute_result"
    }
   ],
   "source": [
    "answer"
   ]
  },
  {
   "cell_type": "code",
   "execution_count": 31,
   "metadata": {},
   "outputs": [],
   "source": [
    "answer=persisted_vectorstore.similarity_search_with_score(\"Best earphones with great sound quality\", k=2)\n"
   ]
  },
  {
   "cell_type": "code",
   "execution_count": 32,
   "metadata": {},
   "outputs": [
    {
     "name": "stdout",
     "output_type": "stream",
     "text": [
      "rating: 5\n",
      "summary: Just wow!\n",
      "review: Best quality earphone ever I used excellent sound quality superb battery backup looking Also Good fully worth\n"
     ]
    }
   ],
   "source": [
    "print((answer)[0][0].page_content)"
   ]
  }
 ],
 "metadata": {
  "kernelspec": {
   "display_name": "base",
   "language": "python",
   "name": "python3"
  },
  "language_info": {
   "codemirror_mode": {
    "name": "ipython",
    "version": 3
   },
   "file_extension": ".py",
   "mimetype": "text/x-python",
   "name": "python",
   "nbconvert_exporter": "python",
   "pygments_lexer": "ipython3",
   "version": "3.12.4"
  }
 },
 "nbformat": 4,
 "nbformat_minor": 2
}
